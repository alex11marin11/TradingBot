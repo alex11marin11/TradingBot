{
 "cells": [
  {
   "cell_type": "code",
   "execution_count": null,
   "metadata": {},
   "outputs": [],
   "source": [
    "import shrimpy\n",
    "\n",
    "public_key = 'a4da3ad96ad3294c6d0ac3eb0728700186bd1134b741e2190a9f3d67806d7fbb'\n",
    "secret_key = '04e5d8e44419b3ef9908189b0cdb7065ed6e95afed3995f039036cb454b4c17fe7dde99b7b02b66b7fe92c0ce18d655e8abe0ed7e936bff99c84cb8c6cbed00e'\n",
    "client = shrimpy.ShrimpyApiClient(public_key, secret_key)\n"
   ]
  },
  {
   "cell_type": "code",
   "execution_count": null,
   "metadata": {},
   "outputs": [],
   "source": [
    "def exists_trade(a,b):\n",
    "    supported_exchanges = client.get_supported_exchanges()\n",
    "    for i in range(len(supported_exchanges)):\n",
    "        name= supported_exchanges[i]['exchange']\n",
    "        trading_pairs = client.get_trading_pairs(name)\n",
    "        for i in range(len(trading_pairs)):\n",
    "            if (trading_pairs[i]['baseTradingSymbol']==a and trading_pairs[i]['quoteTradingSymbol']==b) or (trading_pairs[i]['quoteTradingSymbol']==a and trading_pairs[i]['baseTradingSymbol']==b):\n",
    "                print('Exchange:', name)\n",
    "                print('Pair:',trading_pairs[i],'\\n')\n",
    "exists_trade('EUR','BTC' )"
   ]
  },
  {
   "cell_type": "code",
   "execution_count": null,
   "metadata": {},
   "outputs": [],
   "source": [
    "ticker = client.get_ticker('binance') #veure totes les monedes de una platform\n",
    "print(ticker)"
   ]
  },
  {
   "cell_type": "markdown",
   "metadata": {},
   "source": [
    "ORDER BOOKS:\n",
    "\n",
    "Ask: minimum price that a seller is willing to take\n",
    "Bid: maximum price that a buyer is willing to pay\n",
    "\n",
    "To sell: look for highest price for lower quantity in bid \n",
    "To buy: look for highest quantity for low price in ask\n",
    "\n",
    "Quantity is in base_symbol units\n",
    "\n",
    " "
   ]
  },
  {
   "cell_type": "code",
   "execution_count": null,
   "metadata": {},
   "outputs": [],
   "source": [
    "orderbooks = client.get_orderbooks(\n",
    "    'bittrex',  # exchange\n",
    "    'XLM',      # base_symbol\n",
    "    'BTC',      # quote_symbol\n",
    "    10          # limit\n",
    ")\n",
    "orderbooks"
   ]
  },
  {
   "cell_type": "code",
   "execution_count": null,
   "metadata": {},
   "outputs": [],
   "source": []
  }
 ],
 "metadata": {
  "kernelspec": {
   "display_name": "Python 3",
   "language": "python",
   "name": "python3"
  },
  "language_info": {
   "codemirror_mode": {
    "name": "ipython",
    "version": 3
   },
   "file_extension": ".py",
   "mimetype": "text/x-python",
   "name": "python",
   "nbconvert_exporter": "python",
   "pygments_lexer": "ipython3",
   "version": "3.8.5"
  }
 },
 "nbformat": 4,
 "nbformat_minor": 4
}
